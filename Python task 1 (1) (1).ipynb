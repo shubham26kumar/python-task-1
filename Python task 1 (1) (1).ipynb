{
 "cells": [
  {
   "cell_type": "markdown",
   "id": "78a422e3-e29d-4a3b-94e2-eec9c44d76cc",
   "metadata": {},
   "source": [
    "Q1. Create a function which will take a list as an argument and return the product of all the numbers \n",
    "after creating a flat list.\n",
    "\n",
    "Use the below-given list as an argument for your function.\n",
    "\n",
    "\n",
    "list1 = [1,2,3,4, [44,55,66, True], False, (34,56,78,89,34), {1,2,3,3,2,1}, {1:34, \"key2\": [55, 67, 78, 89], 4: (45, \n",
    "22, 61, 34)}, [56, 'data science'], 'Machine Learning']\n",
    "\n",
    "\n",
    "Note: you must extract numeric keys and values of the dictionary also."
   ]
  },
  {
   "cell_type": "code",
   "execution_count": 12,
   "id": "1399d404-86a8-46f1-a52c-ea2fcd46ddb3",
   "metadata": {},
   "outputs": [
    {
     "name": "stdout",
     "output_type": "stream",
     "text": [
      "4134711838987085478833841242112000\n"
     ]
    }
   ],
   "source": [
    "def product(l1):\n",
    "    \n",
    "    l1 = [1,2,3,4, [44,55,66, True], False, (34,56,78,89,34), {1,2,3,3,2,1}, {1:34, \"key2\": [55, 67, 78, 89], 4: (45, 22, 61, 34)}, [56, 'data science'], 'Machine Learning']  \n",
    "    flatlist = []\n",
    "    for i in l1:\n",
    "        if type(i)==int or type(i)==float:\n",
    "            flatlist.append(i)\n",
    "        elif type(i)==list:\n",
    "            flatlist.extend(i)\n",
    "        elif type(i)==tuple:\n",
    "            flatlist.extend(list(i))\n",
    "        elif type(i)==set:\n",
    "            flatlist.extend(list(i))\n",
    "        elif type(i)==dict:\n",
    "            for key,value in i.items():\n",
    "                if type(key)==int or type(key)==float:\n",
    "                    flatlist.append(key)\n",
    "                if type(value)==int or type(value)==float:\n",
    "                    flatlist.append(value)\n",
    "                if type(value)==list:\n",
    "                    flatlist.extend(value)\n",
    "                if type(value)==tuple:\n",
    "                    flatlist.extend(list(value))\n",
    "\n",
    "\n",
    "product = 1\n",
    "for num in flatlist:\n",
    "    if type(num)==int or type(num)==float:\n",
    "        product*=num\n",
    "print(product)\n",
    "                "
   ]
  },
  {
   "cell_type": "markdown",
   "id": "fb3b4e54-c547-4d2c-b100-5ef7c0f28c9b",
   "metadata": {},
   "source": [
    "Q2. Write a python program for encrypting a message sent to you by your friend. The logic of encryption should be such that, for a the output should be z. For b, the output should be y. For c, the output should be x respectively. Also, the whitespace should be replaced with a dollar sign. Keep the punctuation marks unchanged.\n",
    "\n",
    "Input Sentence: I want to become a Data Scientist.\n",
    "\n",
    "Encrypt the above input sentence using the program you just created.\n",
    "\n",
    "Note: Convert the given input sentence into lowercase before encrypting. The final output should be lowercase."
   ]
  },
  {
   "cell_type": "code",
   "execution_count": 34,
   "id": "0e329eb1-b65e-4c32-a9e6-dbd411a83345",
   "metadata": {},
   "outputs": [
    {
     "name": "stdout",
     "output_type": "stream",
     "text": [
      "r$dzmg$gl$yvxlnv$z$wzgz$hxrvmgrhg\n"
     ]
    }
   ],
   "source": [
    "encrypt = \"I want to become a Data Scientist\"\n",
    "string = encrypt.lower()\n",
    "dict = {\"a\":\"z\", \"b\":\"y\", \"c\":\"x\", \"d\":\"w\", \"e\":\"v\", \"f\":\"u\", \"g\":\"t\", \"h\":\"s\", \"i\":\"r\", \"j\":\"q\", \"k\":\"p\", \"l\":\"o\", \"m\":\"n\",\n",
    "        \" \":\"$\", \"n\":\"m\", \"o\":\"l\", \"p\":\"k\", \"q\":\"j\", \"r\":\"i\", \"s\":\"h\", \"t\":\"g\", \"u\":\"f\", \"v\":\"e\", \"w\":\"d\", \"x\":\"c\", \"y\":\"b\", \"z\":\"a\"}\n",
    "\n",
    "new = []\n",
    "for i in string:\n",
    "    for k,v in dict.items():\n",
    "        \n",
    "        if i == k:\n",
    "            new.append(v)\n",
    "new = \"\".join(new)\n",
    "print(new)\n",
    "        \n",
    "    \n"
   ]
  },
  {
   "cell_type": "code",
   "execution_count": null,
   "id": "1bafb5e8-cf3b-44e5-beb5-7fef02829302",
   "metadata": {},
   "outputs": [],
   "source": []
  },
  {
   "cell_type": "code",
   "execution_count": null,
   "id": "1cee253c-d280-4ee1-9c71-375b8a9b8d0e",
   "metadata": {},
   "outputs": [],
   "source": []
  }
 ],
 "metadata": {
  "kernelspec": {
   "display_name": "Python 3 (ipykernel)",
   "language": "python",
   "name": "python3"
  },
  "language_info": {
   "codemirror_mode": {
    "name": "ipython",
    "version": 3
   },
   "file_extension": ".py",
   "mimetype": "text/x-python",
   "name": "python",
   "nbconvert_exporter": "python",
   "pygments_lexer": "ipython3",
   "version": "3.10.8"
  }
 },
 "nbformat": 4,
 "nbformat_minor": 5
}
